{
    "nbformat_minor": 2, 
    "cells": [
        {
            "source": "# Business Case\n\n\"La Milonguita\" is a chain of restaurantes located in Buenos Aires, Argentina, it offers tipical foods of that country.\nArgentine cuisine has influences of Spain an Italy, and has incorporated Indigenous components also.\nThe owners of this restaurantes wants to expand their chain to Europe and they are very interested in establish a new restaurant in Madrid, Spain.  \n  \nMadrid it's a big city with more than 3 millions inhabitants and a metropolitan area population of about 6.5 millions.\nIt's composed by more than one hundred neighborhoods, with different characteristics. In order to get directions about where to establish their first restaurante in Madrid, the owners of \"La Milonguita\" has asked us to do an study of different places of the city.  \n\nMarketing consultants has determined that we must pay special attention to entertainment services, because they are considered attractive to potential customers. In example it's very common that people go to the restorant after the teatre or other kind of cultural activity.  \nWe also must take into account other food services offerings that cuold be considered in some cases rivalry or, in other cases, complementary to a Argentinian Restaurante.  \n  \nOur project will consist in obtain information of the neighborhoods and make recomendations about best places to start the chain expansion.  \n  ", 
            "cell_type": "markdown", 
            "metadata": {}
        }
    ], 
    "metadata": {
        "kernelspec": {
            "display_name": "Python 3.5", 
            "name": "python3", 
            "language": "python"
        }, 
        "language_info": {
            "mimetype": "text/x-python", 
            "nbconvert_exporter": "python", 
            "version": "3.5.5", 
            "name": "python", 
            "pygments_lexer": "ipython3", 
            "file_extension": ".py", 
            "codemirror_mode": {
                "version": 3, 
                "name": "ipython"
            }
        }
    }, 
    "nbformat": 4
}