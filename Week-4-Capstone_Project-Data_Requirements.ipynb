{
    "nbformat_minor": 2, 
    "cells": [
        {
            "source": "# Data Requirements\n\nRequired data can be gathered from:\n\n- Madrid information, including districts and neighborhoods, can be obtained from Wikipedia: [Madrid](https://en.wikipedia.org/wiki/Madrid)\n\n- For geolocation of neighborhoods _Python geocorder_ will be used. \n\n- In order to obtain venues and their categories we will use [FOURSQUARE](https://foursquare.com/)\n\n", 
            "cell_type": "markdown", 
            "metadata": {}
        }
    ], 
    "metadata": {
        "kernelspec": {
            "display_name": "Python 3.5", 
            "name": "python3", 
            "language": "python"
        }, 
        "language_info": {
            "mimetype": "text/x-python", 
            "nbconvert_exporter": "python", 
            "version": "3.5.5", 
            "name": "python", 
            "pygments_lexer": "ipython3", 
            "file_extension": ".py", 
            "codemirror_mode": {
                "version": 3, 
                "name": "ipython"
            }
        }
    }, 
    "nbformat": 4
}